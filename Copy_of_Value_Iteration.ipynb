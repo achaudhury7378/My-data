{
  "cells": [
    {
      "cell_type": "markdown",
      "metadata": {
        "id": "view-in-github",
        "colab_type": "text"
      },
      "source": [
        "<a href=\"https://colab.research.google.com/github/achaudhury7378/My-data/blob/master/Copy_of_Value_Iteration.ipynb\" target=\"_parent\"><img src=\"https://colab.research.google.com/assets/colab-badge.svg\" alt=\"Open In Colab\"/></a>"
      ]
    },
    {
      "cell_type": "code",
      "execution_count": 1,
      "metadata": {
        "id": "6nyR6xmzhe8d"
      },
      "outputs": [],
      "source": [
        "import numpy as np"
      ]
    },
    {
      "cell_type": "code",
      "execution_count": 2,
      "metadata": {
        "id": "zXXKy9CIMLhV"
      },
      "outputs": [],
      "source": [
        "def seed_cost(n,k):\n",
        "  '''\n",
        "  Cost of each seed user : no of user*k\n",
        "  '''\n",
        "  if n==0:\n",
        "    return 0\n",
        "  else:\n",
        "    return n*k\n",
        "def post_cost(eta,gam):\n",
        "  '''\n",
        "  Returns the cost of creating a post of attarctiveness (eta)\n",
        "  gamma (gam) Cost parameter (> 1)\n",
        "  '''\n",
        "  return eta*gam"
      ]
    },
    {
      "cell_type": "code",
      "execution_count": 3,
      "metadata": {
        "id": "LkkFdwybBkLQ"
      },
      "outputs": [],
      "source": [
        "def q(n,eta):\n",
        "    return np.exp(-n*eta)"
      ]
    },
    {
      "cell_type": "code",
      "execution_count": 4,
      "metadata": {
        "id": "6ataA0x4zEOY"
      },
      "outputs": [],
      "source": [
        "def maximizerFunc(V,state,m,gam,V_0,mf):\n",
        "  '''\n",
        "  Each stage optimization problem of the Value Iteration for each state solved\n",
        "  over number of seed users and eta\n",
        "\n",
        "  Input :: The state we are calcualting for (state)\n",
        "          Cost of each seed user : no of user*k\n",
        "          Cost of making eeach post : attractiveness (eta)*gamma (gam)\n",
        "          Current values for each state (V_0)\n",
        "  Output :: Value for the particular state obtained solving the optimization problem\n",
        "            The maximizer of the optimization problem or the actions optimal\n",
        "  '''\n",
        "  B=state[0]\n",
        "  flag=state[1]\n",
        "  p=0\n",
        "  if flag==0:\n",
        "    mx=0\n",
        "    action=(0,0)\n",
        "    for n in range(max_seed_user):#Loop ovee number of seed user\n",
        "      temp=[]\n",
        "      for i in BudgetList:\n",
        "        if i<= B-seed_cost(n,m):#Saving only budgets that can be spend for attrectiveness after buying n seed user\n",
        "          temp.append(i/gam)\n",
        "      for eta in temp:#Loop over available budget for attarctiveness\n",
        "        mn=1e4\n",
        "        for i in BudgetList:#Finding the nearest available key in our storage\n",
        "          if abs(i-B+seed_cost(n,m)+post_cost(eta,gam))<mn and i<B+seed_cost(n,m)+post_cost(eta,gam):\n",
        "            mn=abs(i-B+seed_cost(n,m)+post_cost(eta,gam))\n",
        "            p=i\n",
        "        if mx<=-seed_cost(n,m)-post_cost(eta,gam)+lam*(1-q(mf,eta)**n)*V+lam*(q(mf,eta)**n)*V_0[(p,0)]:\n",
        "          mx=-seed_cost(n,m)-post_cost(eta,gam)+lam*(1-q(mf,eta)**n)*V+lam*(q(mf,eta)**n)*V_0[(p,0)]\n",
        "          action=(n,eta)\n",
        "    if mx<=0 or action[1]==0 or action[0]==0:\n",
        "      # If the value obtained is negative then there is no point in investing. \n",
        "      # Also if number of seed user is 0 \n",
        "      # the investment for attrativeness (eta) makes no sense. \n",
        "      # Similarly if eta=0 there is no need to buy seed user\n",
        "      return 0,(0,0)\n",
        "    else:\n",
        "      return mx,action\n",
        "  elif flag==1:\n",
        "    return V,(0,0)"
      ]
    },
    {
      "cell_type": "code",
      "execution_count": 5,
      "metadata": {
        "id": "TrIVSFblzrTA"
      },
      "outputs": [],
      "source": [
        "def normCalc(V1,V2):\n",
        "  '''\n",
        "  Check the distance between sucessive iterates of Value Iteration\n",
        "  \n",
        "  Input :: Successive iterates from Value Iteration V1 and V2\n",
        "\n",
        "  Output :: maximum absolute difference between the corresponding components\n",
        "\n",
        "  '''\n",
        "  mx=0\n",
        "  for states in AllStates:\n",
        "    if mx<abs(V1[states]-V2[states]):\n",
        "      mx=abs(V1[states]-V2[states])\n",
        "  return mx"
      ]
    },
    {
      "cell_type": "code",
      "execution_count": 6,
      "metadata": {
        "id": "EIQNaKYcuYi0"
      },
      "outputs": [],
      "source": [
        "def ValueIteration(V,Val_0,m,gam,ep,mf):\n",
        "  '''\n",
        "  Implementation of Value Iteration method\n",
        "\n",
        "  Input :: list of values (Val_0), \n",
        "          Cost of each seed user : no of user*k\n",
        "          Cost of making eeach post : attractiveness (eta)*gamma (gam)\n",
        "          Tolerance (ep)\n",
        "\n",
        "  Output :: Final values for each state (budget,flag) (V_0)\n",
        "            Optimal decision for each state (action_state)\n",
        "  '''\n",
        "  V_1={}\n",
        "  V_0=Val_0.copy()\n",
        "  action_state={}\n",
        "  for states in AllStates:\n",
        "    V_1[states]=0\n",
        "    action_state[states]=(0,0)\n",
        "  while True:\n",
        "    for states in AllStates:\n",
        "      V_1[states],action_state[states]=maximizerFunc(V,states,m,gam,V_0,mf)\n",
        "    if normCalc(V_1,V_0)<ep:\n",
        "      break\n",
        "    else:\n",
        "      V_0=V_1.copy()\n",
        "  return V_0,action_state"
      ]
    },
    {
      "cell_type": "code",
      "execution_count": 7,
      "metadata": {
        "id": "R5zOqlIOKgZI"
      },
      "outputs": [],
      "source": [
        "def Initialize(V,B,cd):\n",
        "  '''\n",
        "  Input :: Budget (B), number of elements between [0,B] (cd)\n",
        "  Output :: 1. Initial Values Vals for each state i.e. (b,f) b is budget in [0,B] and f is flag 0/1\n",
        "            2. All possible state (b,z) b is budget in [0,B] and f is flag 0/1\n",
        "            3. BudgetList in [0,B] : 0 , delta , 2*delta, 3*delta,...,cd*delta(=B)\n",
        "  '''\n",
        "  BudgetList=np.linspace(0,B,cd)\n",
        "  AllStates=[]\n",
        "  for i in BudgetList:\n",
        "    AllStates.append((i,1))\n",
        "    AllStates.append((i,0))\n",
        "  Vals={}# save for all B and eta pair for flag 0\n",
        "  for i in BudgetList:\n",
        "      Vals[(i,1)]=V\n",
        "      Vals[(i,0)]=0\n",
        "  return Vals,AllStates,BudgetList"
      ]
    },
    {
      "cell_type": "code",
      "execution_count": 8,
      "metadata": {
        "id": "nAlYTwIxCs9g"
      },
      "outputs": [],
      "source": [
        "V=1e10\n",
        "B=70\n",
        "p1=30\n",
        "mf=30\n",
        "gam=B\n",
        "lam=1\n",
        "ep=0.01\n",
        "max_seed_user=3\n",
        "Vals,AllStates,BudgetList=Initialize(V,B,int(B//1))\n",
        "FinalV,FinalAct=ValueIteration(V,Vals,p1,gam,ep,mf)"
      ]
    },
    {
      "cell_type": "code",
      "source": [
        "states=list(FinalV.keys())\n",
        "budgets=[]\n",
        "etaList=[]\n",
        "finalV=[]\n",
        "seed_Users=[]\n",
        "BudgetLeft=[]\n",
        "for k in states:\n",
        "    if k[1]==0:\n",
        "        budgets.append(k[0])\n",
        "        finalV.append(FinalV[k])\n",
        "        seed_Users.append(FinalAct[k][0])\n",
        "        BudgetLeft.append(k[0]-gam*FinalAct[k][1]-p1*FinalAct[k][0])\n",
        "        etaList.append(FinalAct[k][1])"
      ],
      "metadata": {
        "id": "ub_t6G-bTVHj"
      },
      "execution_count": 9,
      "outputs": []
    },
    {
      "cell_type": "code",
      "source": [
        "i=0\n",
        "for k in states:\n",
        "    if k[1]==0:\n",
        "        print(f\"Budget: {k[0]}, Optimal V:{FinalV[k]}, Optimal Seed:{FinalAct[k][0]}, Optimal eta:{FinalAct[k][1]} Budget Left:{BudgetLeft[i]}\")\n",
        "        i+=1"
      ],
      "metadata": {
        "id": "N81Ixd_BpFiI",
        "outputId": "a12103f0-c1e8-4412-9e11-0882827c817e",
        "colab": {
          "base_uri": "https://localhost:8080/"
        }
      },
      "execution_count": 19,
      "outputs": [
        {
          "output_type": "stream",
          "name": "stdout",
          "text": [
            "Budget: 0.0, Optimal V:0, Optimal Seed:0, Optimal eta:0 Budget Left:0.0\n",
            "Budget: 1.0144927536231885, Optimal V:0, Optimal Seed:0, Optimal eta:0 Budget Left:1.0144927536231885\n",
            "Budget: 2.028985507246377, Optimal V:0, Optimal Seed:0, Optimal eta:0 Budget Left:2.028985507246377\n",
            "Budget: 3.0434782608695654, Optimal V:0, Optimal Seed:0, Optimal eta:0 Budget Left:3.0434782608695654\n",
            "Budget: 4.057971014492754, Optimal V:0, Optimal Seed:0, Optimal eta:0 Budget Left:4.057971014492754\n",
            "Budget: 5.072463768115942, Optimal V:0, Optimal Seed:0, Optimal eta:0 Budget Left:5.072463768115942\n",
            "Budget: 6.086956521739131, Optimal V:0, Optimal Seed:0, Optimal eta:0 Budget Left:6.086956521739131\n",
            "Budget: 7.101449275362319, Optimal V:0, Optimal Seed:0, Optimal eta:0 Budget Left:7.101449275362319\n",
            "Budget: 8.115942028985508, Optimal V:0, Optimal Seed:0, Optimal eta:0 Budget Left:8.115942028985508\n",
            "Budget: 9.130434782608695, Optimal V:0, Optimal Seed:0, Optimal eta:0 Budget Left:9.130434782608695\n",
            "Budget: 10.144927536231885, Optimal V:0, Optimal Seed:0, Optimal eta:0 Budget Left:10.144927536231885\n",
            "Budget: 11.159420289855074, Optimal V:0, Optimal Seed:0, Optimal eta:0 Budget Left:11.159420289855074\n",
            "Budget: 12.173913043478262, Optimal V:0, Optimal Seed:0, Optimal eta:0 Budget Left:12.173913043478262\n",
            "Budget: 13.18840579710145, Optimal V:0, Optimal Seed:0, Optimal eta:0 Budget Left:13.18840579710145\n",
            "Budget: 14.202898550724639, Optimal V:0, Optimal Seed:0, Optimal eta:0 Budget Left:14.202898550724639\n",
            "Budget: 15.217391304347828, Optimal V:0, Optimal Seed:0, Optimal eta:0 Budget Left:15.217391304347828\n",
            "Budget: 16.231884057971016, Optimal V:0, Optimal Seed:0, Optimal eta:0 Budget Left:16.231884057971016\n",
            "Budget: 17.246376811594203, Optimal V:0, Optimal Seed:0, Optimal eta:0 Budget Left:17.246376811594203\n",
            "Budget: 18.26086956521739, Optimal V:0, Optimal Seed:0, Optimal eta:0 Budget Left:18.26086956521739\n",
            "Budget: 19.275362318840582, Optimal V:0, Optimal Seed:0, Optimal eta:0 Budget Left:19.275362318840582\n",
            "Budget: 20.28985507246377, Optimal V:0, Optimal Seed:0, Optimal eta:0 Budget Left:20.28985507246377\n",
            "Budget: 21.304347826086957, Optimal V:0, Optimal Seed:0, Optimal eta:0 Budget Left:21.304347826086957\n",
            "Budget: 22.318840579710148, Optimal V:0, Optimal Seed:0, Optimal eta:0 Budget Left:22.318840579710148\n",
            "Budget: 23.333333333333336, Optimal V:0, Optimal Seed:0, Optimal eta:0 Budget Left:23.333333333333336\n",
            "Budget: 24.347826086956523, Optimal V:0, Optimal Seed:0, Optimal eta:0 Budget Left:24.347826086956523\n",
            "Budget: 25.36231884057971, Optimal V:0, Optimal Seed:0, Optimal eta:0 Budget Left:25.36231884057971\n",
            "Budget: 26.3768115942029, Optimal V:0, Optimal Seed:0, Optimal eta:0 Budget Left:26.3768115942029\n",
            "Budget: 27.39130434782609, Optimal V:0, Optimal Seed:0, Optimal eta:0 Budget Left:27.39130434782609\n",
            "Budget: 28.405797101449277, Optimal V:0, Optimal Seed:0, Optimal eta:0 Budget Left:28.405797101449277\n",
            "Budget: 29.420289855072465, Optimal V:0, Optimal Seed:0, Optimal eta:0 Budget Left:29.420289855072465\n",
            "Budget: 30.434782608695656, Optimal V:0, Optimal Seed:0, Optimal eta:0 Budget Left:30.434782608695656\n",
            "Budget: 31.449275362318843, Optimal V:3525946048.146397, Optimal Seed:1, Optimal eta:0.014492753623188406 Budget Left:0.4347826086956559\n",
            "Budget: 32.46376811594203, Optimal V:5808662550.977788, Optimal Seed:1, Optimal eta:0.028985507246376812 Budget Left:0.4347826086956559\n",
            "Budget: 33.47826086956522, Optimal V:7286505523.152057, Optimal Seed:1, Optimal eta:0.04347826086956522 Budget Left:0.43478260869565233\n",
            "Budget: 34.492753623188406, Optimal V:8243269031.633285, Optimal Seed:1, Optimal eta:0.057971014492753624 Budget Left:0.43478260869565233\n",
            "Budget: 35.507246376811594, Optimal V:8862682885.615448, Optimal Seed:1, Optimal eta:0.07246376811594203 Budget Left:0.43478260869565233\n",
            "Budget: 36.52173913043478, Optimal V:9263694754.257273, Optimal Seed:1, Optimal eta:0.08695652173913045 Budget Left:0.4347826086956488\n",
            "Budget: 37.536231884057976, Optimal V:9523311999.94793, Optimal Seed:1, Optimal eta:0.10144927536231885 Budget Left:0.4347826086956559\n",
            "Budget: 38.550724637681164, Optimal V:9691389604.328331, Optimal Seed:1, Optimal eta:0.11594202898550725 Budget Left:0.4347826086956559\n",
            "Budget: 39.56521739130435, Optimal V:9800203951.335045, Optimal Seed:1, Optimal eta:0.13043478260869565 Budget Left:0.4347826086956559\n",
            "Budget: 40.57971014492754, Optimal V:9870650945.965574, Optimal Seed:1, Optimal eta:0.14492753623188406 Budget Left:0.4347826086956559\n",
            "Budget: 41.594202898550726, Optimal V:9916258709.787783, Optimal Seed:1, Optimal eta:0.15942028985507248 Budget Left:0.43478260869565233\n",
            "Budget: 42.608695652173914, Optimal V:9945785421.649464, Optimal Seed:1, Optimal eta:0.1739130434782609 Budget Left:0.43478260869565233\n",
            "Budget: 43.6231884057971, Optimal V:9964901173.76152, Optimal Seed:1, Optimal eta:0.18840579710144928 Budget Left:0.43478260869565233\n",
            "Budget: 44.637681159420296, Optimal V:9977276814.394901, Optimal Seed:1, Optimal eta:0.2028985507246377 Budget Left:0.4347826086956559\n",
            "Budget: 45.652173913043484, Optimal V:9985288870.513739, Optimal Seed:1, Optimal eta:0.2173913043478261 Budget Left:0.4347826086956559\n",
            "Budget: 46.66666666666667, Optimal V:9990475918.489048, Optimal Seed:1, Optimal eta:0.2318840579710145 Budget Left:0.4347826086956559\n",
            "Budget: 47.68115942028986, Optimal V:9993834040.959558, Optimal Seed:1, Optimal eta:0.2463768115942029 Budget Left:0.4347826086956559\n",
            "Budget: 48.69565217391305, Optimal V:9996008107.196537, Optimal Seed:1, Optimal eta:0.2608695652173913 Budget Left:0.4347826086956559\n",
            "Budget: 49.710144927536234, Optimal V:9997415609.043404, Optimal Seed:1, Optimal eta:0.27536231884057977 Budget Left:0.4347826086956488\n",
            "Budget: 50.72463768115942, Optimal V:9998326832.970724, Optimal Seed:1, Optimal eta:0.2898550724637681 Budget Left:0.43478260869565233\n",
            "Budget: 51.73913043478261, Optimal V:9998916763.896967, Optimal Seed:1, Optimal eta:0.30434782608695654 Budget Left:0.43478260869565233\n",
            "Budget: 52.7536231884058, Optimal V:9999298688.001867, Optimal Seed:1, Optimal eta:0.31884057971014496 Budget Left:0.4347826086956488\n",
            "Budget: 53.76811594202899, Optimal V:9999545947.369041, Optimal Seed:1, Optimal eta:0.33333333333333337 Budget Left:0.4347826086956559\n",
            "Budget: 54.78260869565218, Optimal V:9999706024.05889, Optimal Seed:1, Optimal eta:0.3478260869565218 Budget Left:0.4347826086956559\n",
            "Budget: 55.79710144927537, Optimal V:9999809658.21334, Optimal Seed:1, Optimal eta:0.36231884057971014 Budget Left:0.4347826086956559\n",
            "Budget: 56.811594202898554, Optimal V:9999876751.166029, Optimal Seed:1, Optimal eta:0.37681159420289856 Budget Left:0.4347826086956559\n",
            "Budget: 57.82608695652174, Optimal V:9999920187.147667, Optimal Seed:1, Optimal eta:0.391304347826087 Budget Left:0.43478260869565233\n",
            "Budget: 58.84057971014493, Optimal V:9999948307.478683, Optimal Seed:1, Optimal eta:0.4057971014492754 Budget Left:0.43478260869565233\n",
            "Budget: 59.85507246376812, Optimal V:9999966512.374908, Optimal Seed:1, Optimal eta:0.4202898550724638 Budget Left:0.43478260869565233\n",
            "Budget: 60.86956521739131, Optimal V:9999978297.965181, Optimal Seed:1, Optimal eta:0.4347826086956522 Budget Left:0.4347826086956559\n",
            "Budget: 61.8840579710145, Optimal V:9999985927.662167, Optimal Seed:1, Optimal eta:0.44927536231884063 Budget Left:0.4347826086956559\n",
            "Budget: 62.89855072463769, Optimal V:9999990866.811432, Optimal Seed:1, Optimal eta:0.463768115942029 Budget Left:0.4347826086956559\n",
            "Budget: 63.913043478260875, Optimal V:9999994064.085594, Optimal Seed:1, Optimal eta:0.4782608695652174 Budget Left:0.4347826086956559\n",
            "Budget: 64.92753623188406, Optimal V:9999996133.660421, Optimal Seed:1, Optimal eta:0.4927536231884058 Budget Left:0.4347826086956559\n",
            "Budget: 65.94202898550725, Optimal V:9999997473.15662, Optimal Seed:1, Optimal eta:0.5072463768115942 Budget Left:0.4347826086956559\n",
            "Budget: 66.95652173913044, Optimal V:9999998339.995975, Optimal Seed:1, Optimal eta:0.5217391304347826 Budget Left:0.4347826086956559\n",
            "Budget: 67.97101449275362, Optimal V:9999998900.834745, Optimal Seed:1, Optimal eta:0.5362318840579711 Budget Left:0.4347826086956488\n",
            "Budget: 68.98550724637681, Optimal V:9999999263.567083, Optimal Seed:1, Optimal eta:0.5507246376811595 Budget Left:0.43478260869564167\n",
            "Budget: 70.0, Optimal V:9999999498.04425, Optimal Seed:1, Optimal eta:0.5652173913043479 Budget Left:0.4347826086956488\n"
          ]
        }
      ]
    },
    {
      "cell_type": "markdown",
      "metadata": {
        "id": "V7Vda2jWjTTb"
      },
      "source": [
        "# Plots"
      ]
    },
    {
      "cell_type": "code",
      "execution_count": null,
      "metadata": {
        "id": "azih58XqAVZD"
      },
      "outputs": [],
      "source": [
        "import matplotlib.pyplot as plt"
      ]
    },
    {
      "cell_type": "code",
      "execution_count": null,
      "metadata": {
        "colab": {
          "base_uri": "https://localhost:8080/",
          "height": 313
        },
        "id": "hfrE21YKVP1r",
        "outputId": "5b05347c-9856-4731-ce13-04345be62bdd"
      },
      "outputs": [
        {
          "output_type": "execute_result",
          "data": {
            "text/plain": [
              "Text(0.5, 1.0, 'Values Obtained vs Budget')"
            ]
          },
          "metadata": {},
          "execution_count": 22
        },
        {
          "output_type": "display_data",
          "data": {
            "text/plain": [
              "<Figure size 432x288 with 1 Axes>"
            ],
            "image/png": "[encoded data removed]"
          },
          "metadata": {
            "needs_background": "light"
          }
        }
      ],
      "source": [
        "plt.scatter(budgets,finalV)\n",
        "plt.xlabel('Budget')\n",
        "plt.ylabel('Values Obtained')\n",
        "plt.title('Values Obtained vs Budget')"
      ]
    },
    {
      "cell_type": "code",
      "execution_count": null,
      "metadata": {
        "colab": {
          "base_uri": "https://localhost:8080/",
          "height": 313
        },
        "id": "yzK3Zg1JVeYw",
        "outputId": "1e466fa3-8847-407d-a1b7-d84d95d8a700"
      },
      "outputs": [
        {
          "output_type": "execute_result",
          "data": {
            "text/plain": [
              "Text(0.5, 1.0, 'Eta vs Budget')"
            ]
          },
          "metadata": {},
          "execution_count": 23
        },
        {
          "output_type": "display_data",
          "data": {
            "text/plain": [
              "<Figure size 432x288 with 1 Axes>"
            ],
            "image/png": "[encoded data removed]"
          },
          "metadata": {
            "needs_background": "light"
          }
        }
      ],
      "source": [
        "plt.scatter(budgets,etaList)\n",
        "plt.xlabel('Budget')\n",
        "plt.ylabel('eta')\n",
        "plt.title('Eta vs Budget')"
      ]
    },
    {
      "cell_type": "code",
      "execution_count": null,
      "metadata": {
        "colab": {
          "base_uri": "https://localhost:8080/",
          "height": 295
        },
        "id": "VyBsfCaBdVRh",
        "outputId": "9cbd081a-8d24-4467-a3b3-ab915b78f5d8"
      },
      "outputs": [
        {
          "output_type": "display_data",
          "data": {
            "text/plain": [
              "<Figure size 432x288 with 1 Axes>"
            ],
            "image/png": "[encoded data removed]"
          },
          "metadata": {
            "needs_background": "light"
          }
        }
      ],
      "source": [
        "plt.scatter(budgets,seed_Users)\n",
        "plt.xlabel('Budget')\n",
        "plt.ylabel('Seed Users')\n",
        "plt.title('Seed Users vs Budget')\n",
        "i=1\n",
        "while True:\n",
        "  plt.axvline(x=seed_cost(i,p1))\n",
        "  i=i+1\n",
        "  if seed_cost(i,p1)>B:\n",
        "    break"
      ]
    },
    {
      "cell_type": "code",
      "execution_count": null,
      "metadata": {
        "colab": {
          "base_uri": "https://localhost:8080/",
          "height": 313
        },
        "id": "ZDoVpnn1SwBI",
        "outputId": "534fd31e-063f-452b-f2fe-b21fcb0b7fa7"
      },
      "outputs": [
        {
          "output_type": "execute_result",
          "data": {
            "text/plain": [
              "Text(0.5, 1.0, 'Left vs Budget')"
            ]
          },
          "metadata": {},
          "execution_count": 25
        },
        {
          "output_type": "display_data",
          "data": {
            "text/plain": [
              "<Figure size 432x288 with 1 Axes>"
            ],
            "image/png": "[encoded data removed]"
          },
          "metadata": {
            "needs_background": "light"
          }
        }
      ],
      "source": [
        "plt.scatter(budgets,BudgetLeft)\n",
        "plt.xlabel('Budget')\n",
        "plt.ylabel('Left')\n",
        "plt.title('Left vs Budget')"
      ]
    }
  ],
  "metadata": {
    "colab": {
      "collapsed_sections": [],
      "name": "Copy of Value_Iteration.ipynb",
      "provenance": [],
      "include_colab_link": true
    },
    "kernelspec": {
      "display_name": "Python 3",
      "name": "python3"
    },
    "language_info": {
      "name": "python"
    }
  },
  "nbformat": 4,
  "nbformat_minor": 0
}